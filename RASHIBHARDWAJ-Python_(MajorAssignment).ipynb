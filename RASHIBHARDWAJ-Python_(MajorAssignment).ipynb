{
 "cells": [
  {
   "cell_type": "code",
   "execution_count": 3,
   "metadata": {},
   "outputs": [
    {
     "name": "stdout",
     "output_type": "stream",
     "text": [
      "<class 'int'>\n",
      "<class 'str'>\n"
     ]
    }
   ],
   "source": [
    "# 1. Find the datatype of these two declaration :\n",
    "x = 5\n",
    "y = \"John\"\n",
    "print(type(x))\n",
    "print(type(y))"
   ]
  },
  {
   "cell_type": "code",
   "execution_count": 4,
   "metadata": {},
   "outputs": [
    {
     "ename": "SyntaxError",
     "evalue": "invalid syntax (340476115.py, line 5)",
     "output_type": "error",
     "traceback": [
      "\u001b[1;36m  File \u001b[1;32m\"C:\\Users\\rashi\\AppData\\Local\\Temp\\ipykernel_30208\\340476115.py\"\u001b[1;36m, line \u001b[1;32m5\u001b[0m\n\u001b[1;33m    3a=10 #invalid syntax\u001b[0m\n\u001b[1;37m     ^\u001b[0m\n\u001b[1;31mSyntaxError\u001b[0m\u001b[1;31m:\u001b[0m invalid syntax\n"
     ]
    }
   ],
   "source": [
    "#2. Check whether the following syntax is valid or invalid for naming a variable\n",
    "#Example: abc=100 #valid syntax\n",
    "\n",
    "\n",
    "3a=10 #invalid syntax\n",
    "@abc=10 #invalid syntax\n",
    "a100=100 #valid syntax \n",
    "_a984_=100 #valid syntax\n",
    "a9967$=100 #invalid syntax\n",
    "xyz-2=100 #invalid syntax"
   ]
  },
  {
   "cell_type": "code",
   "execution_count": 17,
   "metadata": {},
   "outputs": [
    {
     "name": "stdout",
     "output_type": "stream",
     "text": [
      "3 exists in list\n",
      "9 does not exist in list\n"
     ]
    }
   ],
   "source": [
    "# 3. Check if element exists in list in Python :\n",
    "#list = test_list = [1, 6, 3, 5, 3, 4]\n",
    "#1. Check if 3 exist or not.\n",
    "test_list=[1,6,3,5,3,4]\n",
    "i=3\n",
    "if i in test_list:\n",
    "    print(\"3 exists in list\")\n",
    "else:\n",
    "    print(\"3 does not exist in list \")\n",
    "\n",
    "#2. Check if 9 exists or not.\n",
    "i=9\n",
    "if i in test_list:\n",
    "    print(\"9 exists in list\")\n",
    "else:\n",
    "    print(\"9 does not exist in list\")"
   ]
  },
  {
   "cell_type": "code",
   "execution_count": 21,
   "metadata": {},
   "outputs": [
    {
     "name": "stdout",
     "output_type": "stream",
     "text": [
      "Today's date: 2023-02-24\n"
     ]
    }
   ],
   "source": [
    "#4. Take the user input to print the current date\n",
    "from datetime import date\n",
    "\n",
    "today = date.today()\n",
    "print(\"Today's date:\", today)"
   ]
  },
  {
   "cell_type": "code",
   "execution_count": 28,
   "metadata": {},
   "outputs": [
    {
     "name": "stdout",
     "output_type": "stream",
     "text": [
      "4\n",
      "1\n"
     ]
    }
   ],
   "source": [
    "#5. what is the output of the following code :\n",
    "#a. print 9//2\n",
    "#b. print 9%2\n",
    "print(9//2)\n",
    "print(9%2)"
   ]
  },
  {
   "cell_type": "code",
   "execution_count": 27,
   "metadata": {},
   "outputs": [
    {
     "name": "stdout",
     "output_type": "stream",
     "text": [
      "The 10 natural number : 1 2 3 4 5 6 7 8 9 10 "
     ]
    }
   ],
   "source": [
    "#6. Print First 10 natural numbers using a while loop.\n",
    "i=1\n",
    "print(\"The 10 natural number :\",end=\" \")\n",
    "while i<=10:\n",
    "    print(i,end=\" \")\n",
    "    i=i+1\n",
    "\n",
    "\n"
   ]
  },
  {
   "cell_type": "code",
   "execution_count": 26,
   "metadata": {},
   "outputs": [
    {
     "name": "stdout",
     "output_type": "stream",
     "text": [
      "Sum of first  10 numbers is:  55\n"
     ]
    }
   ],
   "source": [
    "#7. Write a program to accept a number from a user and calculate the sum of all numbers from 1 to a given number.\n",
    "#For example, if the user entered 10 the output should be 55\n",
    "#(1+2+3+4+5+6+7+8+9+10)\n",
    "n = 10\n",
    "res = sum(range(1, n + 1))\n",
    "print(\"Sum of first \", n, \"numbers is: \", res)"
   ]
  },
  {
   "cell_type": "code",
   "execution_count": 25,
   "metadata": {},
   "outputs": [
    {
     "name": "stdout",
     "output_type": "stream",
     "text": [
      "1\n",
      "2\n",
      "fizz\n",
      "4\n",
      "buzz\n",
      "fizz\n",
      "7\n",
      "8\n",
      "fizz\n",
      "buzz\n",
      "11\n",
      "fizz\n",
      "13\n",
      "14\n",
      "fizzbuzz\n",
      "16\n",
      "17\n",
      "fizz\n",
      "19\n",
      "buzz\n",
      "fizz\n",
      "22\n",
      "23\n",
      "fizz\n",
      "buzz\n",
      "26\n",
      "fizz\n",
      "28\n",
      "29\n",
      "fizzbuzz\n",
      "31\n",
      "32\n",
      "fizz\n",
      "34\n",
      "buzz\n",
      "fizz\n",
      "37\n",
      "38\n",
      "fizz\n",
      "buzz\n",
      "41\n",
      "fizz\n",
      "43\n",
      "44\n",
      "fizzbuzz\n",
      "46\n",
      "47\n",
      "fizz\n",
      "49\n",
      "buzz\n"
     ]
    }
   ],
   "source": [
    "#8. Write a Python program which iterates the integers from 1 to 50.For multiples of three print \"Fizz\" instead of the number and for\n",
    "#the multiples of five print \"Buzz\". For numbers which are multiples of both three and five print \"FizzBuzz\".\n",
    "#Example :\n",
    "#fizzbuzz\n",
    "#1\n",
    "#2\n",
    "#fizz\n",
    "#4\n",
    "#buzz\n",
    "for number in range(1,51):\n",
    "    #if number is multiple of 3 and 5\n",
    "    if number % 3 == 0 and number % 5 == 0:\n",
    "        print(\"fizzbuzz\")\n",
    "\n",
    "    #if number is multiple of 3    \n",
    "    elif number % 3 == 0:\n",
    "        print(\"fizz\")\n",
    "        \n",
    "    #if number is multiple of 5    \n",
    "    elif number % 5 == 0:\n",
    "        print(\"buzz\")\n",
    "    else:    \n",
    "        print(number)"
   ]
  }
 ],
 "metadata": {
  "kernelspec": {
   "display_name": "base",
   "language": "python",
   "name": "python3"
  },
  "language_info": {
   "codemirror_mode": {
    "name": "ipython",
    "version": 3
   },
   "file_extension": ".py",
   "mimetype": "text/x-python",
   "name": "python",
   "nbconvert_exporter": "python",
   "pygments_lexer": "ipython3",
   "version": "3.9.13"
  },
  "orig_nbformat": 4,
  "vscode": {
   "interpreter": {
    "hash": "ad2bdc8ecc057115af97d19610ffacc2b4e99fae6737bb82f5d7fb13d2f2c186"
   }
  }
 },
 "nbformat": 4,
 "nbformat_minor": 2
}
